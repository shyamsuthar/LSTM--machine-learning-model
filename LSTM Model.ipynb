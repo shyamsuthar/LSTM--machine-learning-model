{
 "cells": [
  {
   "cell_type": "markdown",
   "id": "626eec95",
   "metadata": {},
   "source": [
    "## Import the libraries"
   ]
  },
  {
   "cell_type": "code",
   "execution_count": 2,
   "id": "3bb6c828",
   "metadata": {},
   "outputs": [],
   "source": [
    "import pandas as pd\n",
    "import numpy as np\n",
    "import matplotlib.pyplot as plt\n",
    "import pandas_datareader as data"
   ]
  },
  {
   "cell_type": "code",
   "execution_count": 3,
   "id": "2bd56b5a",
   "metadata": {},
   "outputs": [
    {
     "data": {
      "text/html": [
       "<div>\n",
       "<style scoped>\n",
       "    .dataframe tbody tr th:only-of-type {\n",
       "        vertical-align: middle;\n",
       "    }\n",
       "\n",
       "    .dataframe tbody tr th {\n",
       "        vertical-align: top;\n",
       "    }\n",
       "\n",
       "    .dataframe thead th {\n",
       "        text-align: right;\n",
       "    }\n",
       "</style>\n",
       "<table border=\"1\" class=\"dataframe\">\n",
       "  <thead>\n",
       "    <tr style=\"text-align: right;\">\n",
       "      <th></th>\n",
       "      <th>High</th>\n",
       "      <th>Low</th>\n",
       "      <th>Open</th>\n",
       "      <th>Close</th>\n",
       "      <th>Volume</th>\n",
       "      <th>Adj Close</th>\n",
       "    </tr>\n",
       "    <tr>\n",
       "      <th>Date</th>\n",
       "      <th></th>\n",
       "      <th></th>\n",
       "      <th></th>\n",
       "      <th></th>\n",
       "      <th></th>\n",
       "      <th></th>\n",
       "    </tr>\n",
       "  </thead>\n",
       "  <tbody>\n",
       "    <tr>\n",
       "      <th>1999-12-31</th>\n",
       "      <td>58.8750</td>\n",
       "      <td>58.1250</td>\n",
       "      <td>58.75000</td>\n",
       "      <td>58.37500</td>\n",
       "      <td>12517600.0</td>\n",
       "      <td>36.886784</td>\n",
       "    </tr>\n",
       "    <tr>\n",
       "      <th>2000-01-03</th>\n",
       "      <td>59.3125</td>\n",
       "      <td>56.0000</td>\n",
       "      <td>58.68750</td>\n",
       "      <td>58.28125</td>\n",
       "      <td>53228400.0</td>\n",
       "      <td>36.827522</td>\n",
       "    </tr>\n",
       "    <tr>\n",
       "      <th>2000-01-04</th>\n",
       "      <td>58.5625</td>\n",
       "      <td>56.1250</td>\n",
       "      <td>56.78125</td>\n",
       "      <td>56.31250</td>\n",
       "      <td>54119000.0</td>\n",
       "      <td>35.583492</td>\n",
       "    </tr>\n",
       "    <tr>\n",
       "      <th>2000-01-05</th>\n",
       "      <td>58.1875</td>\n",
       "      <td>54.6875</td>\n",
       "      <td>55.56250</td>\n",
       "      <td>56.90625</td>\n",
       "      <td>64059600.0</td>\n",
       "      <td>35.958683</td>\n",
       "    </tr>\n",
       "    <tr>\n",
       "      <th>2000-01-06</th>\n",
       "      <td>56.9375</td>\n",
       "      <td>54.1875</td>\n",
       "      <td>56.09375</td>\n",
       "      <td>55.00000</td>\n",
       "      <td>54976600.0</td>\n",
       "      <td>34.754116</td>\n",
       "    </tr>\n",
       "  </tbody>\n",
       "</table>\n",
       "</div>"
      ],
      "text/plain": [
       "               High      Low      Open     Close      Volume  Adj Close\n",
       "Date                                                                   \n",
       "1999-12-31  58.8750  58.1250  58.75000  58.37500  12517600.0  36.886784\n",
       "2000-01-03  59.3125  56.0000  58.68750  58.28125  53228400.0  36.827522\n",
       "2000-01-04  58.5625  56.1250  56.78125  56.31250  54119000.0  35.583492\n",
       "2000-01-05  58.1875  54.6875  55.56250  56.90625  64059600.0  35.958683\n",
       "2000-01-06  56.9375  54.1875  56.09375  55.00000  54976600.0  34.754116"
      ]
     },
     "execution_count": 3,
     "metadata": {},
     "output_type": "execute_result"
    }
   ],
   "source": [
    "start = '2000-01-01'\n",
    "end = '2022-01-01'\n",
    "\n",
    "df = data.DataReader('MSFT','yahoo',start,end)\n",
    "df.head()\n"
   ]
  },
  {
   "cell_type": "code",
   "execution_count": 4,
   "id": "6cb69739",
   "metadata": {},
   "outputs": [
    {
     "data": {
      "text/html": [
       "<div>\n",
       "<style scoped>\n",
       "    .dataframe tbody tr th:only-of-type {\n",
       "        vertical-align: middle;\n",
       "    }\n",
       "\n",
       "    .dataframe tbody tr th {\n",
       "        vertical-align: top;\n",
       "    }\n",
       "\n",
       "    .dataframe thead th {\n",
       "        text-align: right;\n",
       "    }\n",
       "</style>\n",
       "<table border=\"1\" class=\"dataframe\">\n",
       "  <thead>\n",
       "    <tr style=\"text-align: right;\">\n",
       "      <th></th>\n",
       "      <th>High</th>\n",
       "      <th>Low</th>\n",
       "      <th>Open</th>\n",
       "      <th>Close</th>\n",
       "      <th>Volume</th>\n",
       "      <th>Adj Close</th>\n",
       "    </tr>\n",
       "    <tr>\n",
       "      <th>Date</th>\n",
       "      <th></th>\n",
       "      <th></th>\n",
       "      <th></th>\n",
       "      <th></th>\n",
       "      <th></th>\n",
       "      <th></th>\n",
       "    </tr>\n",
       "  </thead>\n",
       "  <tbody>\n",
       "    <tr>\n",
       "      <th>2021-12-27</th>\n",
       "      <td>342.480011</td>\n",
       "      <td>335.429993</td>\n",
       "      <td>335.459991</td>\n",
       "      <td>342.450012</td>\n",
       "      <td>19947000.0</td>\n",
       "      <td>341.743378</td>\n",
       "    </tr>\n",
       "    <tr>\n",
       "      <th>2021-12-28</th>\n",
       "      <td>343.809998</td>\n",
       "      <td>340.320007</td>\n",
       "      <td>343.149994</td>\n",
       "      <td>341.250000</td>\n",
       "      <td>15661500.0</td>\n",
       "      <td>340.545837</td>\n",
       "    </tr>\n",
       "    <tr>\n",
       "      <th>2021-12-29</th>\n",
       "      <td>344.299988</td>\n",
       "      <td>339.679993</td>\n",
       "      <td>341.299988</td>\n",
       "      <td>341.950012</td>\n",
       "      <td>15042000.0</td>\n",
       "      <td>341.244415</td>\n",
       "    </tr>\n",
       "    <tr>\n",
       "      <th>2021-12-30</th>\n",
       "      <td>343.130005</td>\n",
       "      <td>338.820007</td>\n",
       "      <td>341.910004</td>\n",
       "      <td>339.320007</td>\n",
       "      <td>15994500.0</td>\n",
       "      <td>338.619843</td>\n",
       "    </tr>\n",
       "    <tr>\n",
       "      <th>2021-12-31</th>\n",
       "      <td>339.359985</td>\n",
       "      <td>335.850006</td>\n",
       "      <td>338.510010</td>\n",
       "      <td>336.320007</td>\n",
       "      <td>18000800.0</td>\n",
       "      <td>335.626038</td>\n",
       "    </tr>\n",
       "  </tbody>\n",
       "</table>\n",
       "</div>"
      ],
      "text/plain": [
       "                  High         Low        Open       Close      Volume  \\\n",
       "Date                                                                     \n",
       "2021-12-27  342.480011  335.429993  335.459991  342.450012  19947000.0   \n",
       "2021-12-28  343.809998  340.320007  343.149994  341.250000  15661500.0   \n",
       "2021-12-29  344.299988  339.679993  341.299988  341.950012  15042000.0   \n",
       "2021-12-30  343.130005  338.820007  341.910004  339.320007  15994500.0   \n",
       "2021-12-31  339.359985  335.850006  338.510010  336.320007  18000800.0   \n",
       "\n",
       "             Adj Close  \n",
       "Date                    \n",
       "2021-12-27  341.743378  \n",
       "2021-12-28  340.545837  \n",
       "2021-12-29  341.244415  \n",
       "2021-12-30  338.619843  \n",
       "2021-12-31  335.626038  "
      ]
     },
     "execution_count": 4,
     "metadata": {},
     "output_type": "execute_result"
    }
   ],
   "source": [
    "df.tail()"
   ]
  },
  {
   "cell_type": "code",
   "execution_count": 5,
   "id": "2c188c02",
   "metadata": {},
   "outputs": [],
   "source": [
    "df = df.reset_index()"
   ]
  },
  {
   "cell_type": "code",
   "execution_count": 6,
   "id": "7f071a95",
   "metadata": {},
   "outputs": [
    {
     "data": {
      "text/html": [
       "<div>\n",
       "<style scoped>\n",
       "    .dataframe tbody tr th:only-of-type {\n",
       "        vertical-align: middle;\n",
       "    }\n",
       "\n",
       "    .dataframe tbody tr th {\n",
       "        vertical-align: top;\n",
       "    }\n",
       "\n",
       "    .dataframe thead th {\n",
       "        text-align: right;\n",
       "    }\n",
       "</style>\n",
       "<table border=\"1\" class=\"dataframe\">\n",
       "  <thead>\n",
       "    <tr style=\"text-align: right;\">\n",
       "      <th></th>\n",
       "      <th>Date</th>\n",
       "      <th>High</th>\n",
       "      <th>Low</th>\n",
       "      <th>Open</th>\n",
       "      <th>Close</th>\n",
       "      <th>Volume</th>\n",
       "      <th>Adj Close</th>\n",
       "    </tr>\n",
       "  </thead>\n",
       "  <tbody>\n",
       "    <tr>\n",
       "      <th>0</th>\n",
       "      <td>1999-12-31</td>\n",
       "      <td>58.875000</td>\n",
       "      <td>58.125000</td>\n",
       "      <td>58.750000</td>\n",
       "      <td>58.375000</td>\n",
       "      <td>12517600.0</td>\n",
       "      <td>36.886784</td>\n",
       "    </tr>\n",
       "    <tr>\n",
       "      <th>1</th>\n",
       "      <td>2000-01-03</td>\n",
       "      <td>59.312500</td>\n",
       "      <td>56.000000</td>\n",
       "      <td>58.687500</td>\n",
       "      <td>58.281250</td>\n",
       "      <td>53228400.0</td>\n",
       "      <td>36.827522</td>\n",
       "    </tr>\n",
       "    <tr>\n",
       "      <th>2</th>\n",
       "      <td>2000-01-04</td>\n",
       "      <td>58.562500</td>\n",
       "      <td>56.125000</td>\n",
       "      <td>56.781250</td>\n",
       "      <td>56.312500</td>\n",
       "      <td>54119000.0</td>\n",
       "      <td>35.583492</td>\n",
       "    </tr>\n",
       "    <tr>\n",
       "      <th>3</th>\n",
       "      <td>2000-01-05</td>\n",
       "      <td>58.187500</td>\n",
       "      <td>54.687500</td>\n",
       "      <td>55.562500</td>\n",
       "      <td>56.906250</td>\n",
       "      <td>64059600.0</td>\n",
       "      <td>35.958683</td>\n",
       "    </tr>\n",
       "    <tr>\n",
       "      <th>4</th>\n",
       "      <td>2000-01-06</td>\n",
       "      <td>56.937500</td>\n",
       "      <td>54.187500</td>\n",
       "      <td>56.093750</td>\n",
       "      <td>55.000000</td>\n",
       "      <td>54976600.0</td>\n",
       "      <td>34.754116</td>\n",
       "    </tr>\n",
       "    <tr>\n",
       "      <th>...</th>\n",
       "      <td>...</td>\n",
       "      <td>...</td>\n",
       "      <td>...</td>\n",
       "      <td>...</td>\n",
       "      <td>...</td>\n",
       "      <td>...</td>\n",
       "      <td>...</td>\n",
       "    </tr>\n",
       "    <tr>\n",
       "      <th>5532</th>\n",
       "      <td>2021-12-27</td>\n",
       "      <td>342.480011</td>\n",
       "      <td>335.429993</td>\n",
       "      <td>335.459991</td>\n",
       "      <td>342.450012</td>\n",
       "      <td>19947000.0</td>\n",
       "      <td>341.743378</td>\n",
       "    </tr>\n",
       "    <tr>\n",
       "      <th>5533</th>\n",
       "      <td>2021-12-28</td>\n",
       "      <td>343.809998</td>\n",
       "      <td>340.320007</td>\n",
       "      <td>343.149994</td>\n",
       "      <td>341.250000</td>\n",
       "      <td>15661500.0</td>\n",
       "      <td>340.545837</td>\n",
       "    </tr>\n",
       "    <tr>\n",
       "      <th>5534</th>\n",
       "      <td>2021-12-29</td>\n",
       "      <td>344.299988</td>\n",
       "      <td>339.679993</td>\n",
       "      <td>341.299988</td>\n",
       "      <td>341.950012</td>\n",
       "      <td>15042000.0</td>\n",
       "      <td>341.244415</td>\n",
       "    </tr>\n",
       "    <tr>\n",
       "      <th>5535</th>\n",
       "      <td>2021-12-30</td>\n",
       "      <td>343.130005</td>\n",
       "      <td>338.820007</td>\n",
       "      <td>341.910004</td>\n",
       "      <td>339.320007</td>\n",
       "      <td>15994500.0</td>\n",
       "      <td>338.619843</td>\n",
       "    </tr>\n",
       "    <tr>\n",
       "      <th>5536</th>\n",
       "      <td>2021-12-31</td>\n",
       "      <td>339.359985</td>\n",
       "      <td>335.850006</td>\n",
       "      <td>338.510010</td>\n",
       "      <td>336.320007</td>\n",
       "      <td>18000800.0</td>\n",
       "      <td>335.626038</td>\n",
       "    </tr>\n",
       "  </tbody>\n",
       "</table>\n",
       "<p>5537 rows × 7 columns</p>\n",
       "</div>"
      ],
      "text/plain": [
       "           Date        High         Low        Open       Close      Volume  \\\n",
       "0    1999-12-31   58.875000   58.125000   58.750000   58.375000  12517600.0   \n",
       "1    2000-01-03   59.312500   56.000000   58.687500   58.281250  53228400.0   \n",
       "2    2000-01-04   58.562500   56.125000   56.781250   56.312500  54119000.0   \n",
       "3    2000-01-05   58.187500   54.687500   55.562500   56.906250  64059600.0   \n",
       "4    2000-01-06   56.937500   54.187500   56.093750   55.000000  54976600.0   \n",
       "...         ...         ...         ...         ...         ...         ...   \n",
       "5532 2021-12-27  342.480011  335.429993  335.459991  342.450012  19947000.0   \n",
       "5533 2021-12-28  343.809998  340.320007  343.149994  341.250000  15661500.0   \n",
       "5534 2021-12-29  344.299988  339.679993  341.299988  341.950012  15042000.0   \n",
       "5535 2021-12-30  343.130005  338.820007  341.910004  339.320007  15994500.0   \n",
       "5536 2021-12-31  339.359985  335.850006  338.510010  336.320007  18000800.0   \n",
       "\n",
       "       Adj Close  \n",
       "0      36.886784  \n",
       "1      36.827522  \n",
       "2      35.583492  \n",
       "3      35.958683  \n",
       "4      34.754116  \n",
       "...          ...  \n",
       "5532  341.743378  \n",
       "5533  340.545837  \n",
       "5534  341.244415  \n",
       "5535  338.619843  \n",
       "5536  335.626038  \n",
       "\n",
       "[5537 rows x 7 columns]"
      ]
     },
     "execution_count": 6,
     "metadata": {},
     "output_type": "execute_result"
    }
   ],
   "source": [
    "df"
   ]
  },
  {
   "cell_type": "code",
   "execution_count": 10,
   "id": "08ba0d6e",
   "metadata": {},
   "outputs": [],
   "source": [
    "df.drop(['Date','Adj Close'],axis = 1,inplace = True)"
   ]
  },
  {
   "cell_type": "code",
   "execution_count": 11,
   "id": "9feacb27",
   "metadata": {},
   "outputs": [
    {
     "data": {
      "text/html": [
       "<div>\n",
       "<style scoped>\n",
       "    .dataframe tbody tr th:only-of-type {\n",
       "        vertical-align: middle;\n",
       "    }\n",
       "\n",
       "    .dataframe tbody tr th {\n",
       "        vertical-align: top;\n",
       "    }\n",
       "\n",
       "    .dataframe thead th {\n",
       "        text-align: right;\n",
       "    }\n",
       "</style>\n",
       "<table border=\"1\" class=\"dataframe\">\n",
       "  <thead>\n",
       "    <tr style=\"text-align: right;\">\n",
       "      <th></th>\n",
       "      <th>High</th>\n",
       "      <th>Low</th>\n",
       "      <th>Open</th>\n",
       "      <th>Close</th>\n",
       "      <th>Volume</th>\n",
       "    </tr>\n",
       "  </thead>\n",
       "  <tbody>\n",
       "    <tr>\n",
       "      <th>0</th>\n",
       "      <td>58.8750</td>\n",
       "      <td>58.1250</td>\n",
       "      <td>58.75000</td>\n",
       "      <td>58.37500</td>\n",
       "      <td>12517600.0</td>\n",
       "    </tr>\n",
       "    <tr>\n",
       "      <th>1</th>\n",
       "      <td>59.3125</td>\n",
       "      <td>56.0000</td>\n",
       "      <td>58.68750</td>\n",
       "      <td>58.28125</td>\n",
       "      <td>53228400.0</td>\n",
       "    </tr>\n",
       "    <tr>\n",
       "      <th>2</th>\n",
       "      <td>58.5625</td>\n",
       "      <td>56.1250</td>\n",
       "      <td>56.78125</td>\n",
       "      <td>56.31250</td>\n",
       "      <td>54119000.0</td>\n",
       "    </tr>\n",
       "    <tr>\n",
       "      <th>3</th>\n",
       "      <td>58.1875</td>\n",
       "      <td>54.6875</td>\n",
       "      <td>55.56250</td>\n",
       "      <td>56.90625</td>\n",
       "      <td>64059600.0</td>\n",
       "    </tr>\n",
       "    <tr>\n",
       "      <th>4</th>\n",
       "      <td>56.9375</td>\n",
       "      <td>54.1875</td>\n",
       "      <td>56.09375</td>\n",
       "      <td>55.00000</td>\n",
       "      <td>54976600.0</td>\n",
       "    </tr>\n",
       "  </tbody>\n",
       "</table>\n",
       "</div>"
      ],
      "text/plain": [
       "      High      Low      Open     Close      Volume\n",
       "0  58.8750  58.1250  58.75000  58.37500  12517600.0\n",
       "1  59.3125  56.0000  58.68750  58.28125  53228400.0\n",
       "2  58.5625  56.1250  56.78125  56.31250  54119000.0\n",
       "3  58.1875  54.6875  55.56250  56.90625  64059600.0\n",
       "4  56.9375  54.1875  56.09375  55.00000  54976600.0"
      ]
     },
     "execution_count": 11,
     "metadata": {},
     "output_type": "execute_result"
    }
   ],
   "source": [
    "df.head()"
   ]
  },
  {
   "cell_type": "code",
   "execution_count": 12,
   "id": "f6e6664f",
   "metadata": {},
   "outputs": [
    {
     "data": {
      "text/plain": [
       "[<matplotlib.lines.Line2D at 0x17b23253670>]"
      ]
     },
     "execution_count": 12,
     "metadata": {},
     "output_type": "execute_result"
    },
    {
     "data": {
      "image/png": "[encoded data removed]",
      "text/plain": [
       "<Figure size 432x288 with 1 Axes>"
      ]
     },
     "metadata": {
      "needs_background": "light"
     },
     "output_type": "display_data"
    }
   ],
   "source": [
    "plt.plot(df.Close)"
   ]
  },
  {
   "cell_type": "code",
   "execution_count": 13,
   "id": "1c0add15",
   "metadata": {},
   "outputs": [],
   "source": [
    "ma100 = df.Close.rolling(100).mean()"
   ]
  },
  {
   "cell_type": "code",
   "execution_count": 14,
   "id": "b7b9eaf9",
   "metadata": {},
   "outputs": [
    {
     "data": {
      "text/plain": [
       "[<matplotlib.lines.Line2D at 0x17b230d49a0>]"
      ]
     },
     "execution_count": 14,
     "metadata": {},
     "output_type": "execute_result"
    },
    {
     "data": {
      "image/png": "[encoded data removed]",
      "text/plain": [
       "<Figure size 864x432 with 1 Axes>"
      ]
     },
     "metadata": {
      "needs_background": "light"
     },
     "output_type": "display_data"
    }
   ],
   "source": [
    "plt.figure(figsize=(12,6))\n",
    "plt.plot(df.Close)\n",
    "plt.plot(ma100,'r')"
   ]
  },
  {
   "cell_type": "code",
   "execution_count": 15,
   "id": "39eea435",
   "metadata": {},
   "outputs": [
    {
     "data": {
      "text/plain": [
       "0            NaN\n",
       "1            NaN\n",
       "2            NaN\n",
       "3            NaN\n",
       "4            NaN\n",
       "          ...   \n",
       "5532    285.3813\n",
       "5533    285.9135\n",
       "5534    286.4347\n",
       "5535    286.9461\n",
       "5536    287.4741\n",
       "Name: Close, Length: 5537, dtype: float64"
      ]
     },
     "execution_count": 15,
     "metadata": {},
     "output_type": "execute_result"
    }
   ],
   "source": [
    "ma200 = df.Close.rolling(200).mean()\n",
    "ma200"
   ]
  },
  {
   "cell_type": "code",
   "execution_count": 16,
   "id": "1e26b084",
   "metadata": {},
   "outputs": [
    {
     "data": {
      "text/plain": [
       "[<matplotlib.lines.Line2D at 0x17b2321f640>]"
      ]
     },
     "execution_count": 16,
     "metadata": {},
     "output_type": "execute_result"
    },
    {
     "data": {
      "image/png": "[encoded data removed]",
      "text/plain": [
       "<Figure size 864x432 with 1 Axes>"
      ]
     },
     "metadata": {
      "needs_background": "light"
     },
     "output_type": "display_data"
    }
   ],
   "source": [
    "plt.figure(figsize=(12,6))\n",
    "plt.plot(df.Close)\n",
    "plt.plot(ma100,'r')\n",
    "plt.plot(ma200,'g')"
   ]
  },
  {
   "cell_type": "code",
   "execution_count": 17,
   "id": "ca7cae47",
   "metadata": {},
   "outputs": [
    {
     "data": {
      "text/plain": [
       "(5537, 5)"
      ]
     },
     "execution_count": 17,
     "metadata": {},
     "output_type": "execute_result"
    }
   ],
   "source": [
    "df.shape"
   ]
  },
  {
   "cell_type": "markdown",
   "id": "387ea68a",
   "metadata": {},
   "source": [
    "## Split the data into Train and Test"
   ]
  },
  {
   "cell_type": "code",
   "execution_count": 21,
   "id": "062a3357",
   "metadata": {},
   "outputs": [
    {
     "name": "stdout",
     "output_type": "stream",
     "text": [
      "(3875, 1)\n",
      "(1662, 1)\n"
     ]
    }
   ],
   "source": [
    "data_training = pd.DataFrame(df['Close'][0:int(len(df)*0.70)])\n",
    "data_testing = pd.DataFrame(df['Close'][int(len(df)*0.70):int(len(df))])\n",
    "\n",
    "print(data_training.shape)\n",
    "print(data_testing.shape)"
   ]
  },
  {
   "cell_type": "code",
   "execution_count": 22,
   "id": "054ca2ab",
   "metadata": {},
   "outputs": [
    {
     "data": {
      "text/html": [
       "<div>\n",
       "<style scoped>\n",
       "    .dataframe tbody tr th:only-of-type {\n",
       "        vertical-align: middle;\n",
       "    }\n",
       "\n",
       "    .dataframe tbody tr th {\n",
       "        vertical-align: top;\n",
       "    }\n",
       "\n",
       "    .dataframe thead th {\n",
       "        text-align: right;\n",
       "    }\n",
       "</style>\n",
       "<table border=\"1\" class=\"dataframe\">\n",
       "  <thead>\n",
       "    <tr style=\"text-align: right;\">\n",
       "      <th></th>\n",
       "      <th>Close</th>\n",
       "    </tr>\n",
       "  </thead>\n",
       "  <tbody>\n",
       "    <tr>\n",
       "      <th>0</th>\n",
       "      <td>58.37500</td>\n",
       "    </tr>\n",
       "    <tr>\n",
       "      <th>1</th>\n",
       "      <td>58.28125</td>\n",
       "    </tr>\n",
       "    <tr>\n",
       "      <th>2</th>\n",
       "      <td>56.31250</td>\n",
       "    </tr>\n",
       "    <tr>\n",
       "      <th>3</th>\n",
       "      <td>56.90625</td>\n",
       "    </tr>\n",
       "    <tr>\n",
       "      <th>4</th>\n",
       "      <td>55.00000</td>\n",
       "    </tr>\n",
       "  </tbody>\n",
       "</table>\n",
       "</div>"
      ],
      "text/plain": [
       "      Close\n",
       "0  58.37500\n",
       "1  58.28125\n",
       "2  56.31250\n",
       "3  56.90625\n",
       "4  55.00000"
      ]
     },
     "execution_count": 22,
     "metadata": {},
     "output_type": "execute_result"
    }
   ],
   "source": [
    "data_training.head()"
   ]
  },
  {
   "cell_type": "code",
   "execution_count": 23,
   "id": "947a73f2",
   "metadata": {},
   "outputs": [
    {
     "data": {
      "text/html": [
       "<div>\n",
       "<style scoped>\n",
       "    .dataframe tbody tr th:only-of-type {\n",
       "        vertical-align: middle;\n",
       "    }\n",
       "\n",
       "    .dataframe tbody tr th {\n",
       "        vertical-align: top;\n",
       "    }\n",
       "\n",
       "    .dataframe thead th {\n",
       "        text-align: right;\n",
       "    }\n",
       "</style>\n",
       "<table border=\"1\" class=\"dataframe\">\n",
       "  <thead>\n",
       "    <tr style=\"text-align: right;\">\n",
       "      <th></th>\n",
       "      <th>Close</th>\n",
       "    </tr>\n",
       "  </thead>\n",
       "  <tbody>\n",
       "    <tr>\n",
       "      <th>3875</th>\n",
       "      <td>46.860001</td>\n",
       "    </tr>\n",
       "    <tr>\n",
       "      <th>3876</th>\n",
       "      <td>47.230000</td>\n",
       "    </tr>\n",
       "    <tr>\n",
       "      <th>3877</th>\n",
       "      <td>46.919998</td>\n",
       "    </tr>\n",
       "    <tr>\n",
       "      <th>3878</th>\n",
       "      <td>46.849998</td>\n",
       "    </tr>\n",
       "    <tr>\n",
       "      <th>3879</th>\n",
       "      <td>46.360001</td>\n",
       "    </tr>\n",
       "  </tbody>\n",
       "</table>\n",
       "</div>"
      ],
      "text/plain": [
       "          Close\n",
       "3875  46.860001\n",
       "3876  47.230000\n",
       "3877  46.919998\n",
       "3878  46.849998\n",
       "3879  46.360001"
      ]
     },
     "execution_count": 23,
     "metadata": {},
     "output_type": "execute_result"
    }
   ],
   "source": [
    "data_testing.head()"
   ]
  },
  {
   "cell_type": "markdown",
   "id": "b6ecc78e",
   "metadata": {},
   "source": [
    "## Scale the Data"
   ]
  },
  {
   "cell_type": "code",
   "execution_count": 24,
   "id": "d1091834",
   "metadata": {},
   "outputs": [],
   "source": [
    "from sklearn.preprocessing import MinMaxScaler"
   ]
  },
  {
   "cell_type": "code",
   "execution_count": 25,
   "id": "fa857bd0",
   "metadata": {},
   "outputs": [],
   "source": [
    "scaler = MinMaxScaler(feature_range=(0,1))\n"
   ]
  },
  {
   "cell_type": "code",
   "execution_count": 26,
   "id": "9d92e0e2",
   "metadata": {},
   "outputs": [
    {
     "data": {
      "text/plain": [
       "array([[1.        ],\n",
       "       [0.99783112],\n",
       "       [0.95228456],\n",
       "       ...,\n",
       "       [0.72735686],\n",
       "       [0.75095433],\n",
       "       [0.74725277]])"
      ]
     },
     "execution_count": 26,
     "metadata": {},
     "output_type": "execute_result"
    }
   ],
   "source": [
    "data_training_array = scaler.fit_transform(data_training)\n",
    "data_training_array"
   ]
  },
  {
   "cell_type": "code",
   "execution_count": 27,
   "id": "cb9360ee",
   "metadata": {},
   "outputs": [
    {
     "data": {
      "text/plain": [
       "(3875, 1)"
      ]
     },
     "execution_count": 27,
     "metadata": {},
     "output_type": "execute_result"
    }
   ],
   "source": [
    "data_training_array.shape"
   ]
  },
  {
   "cell_type": "markdown",
   "id": "b1a5e83d",
   "metadata": {},
   "source": [
    "## ML Model"
   ]
  },
  {
   "cell_type": "code",
   "execution_count": 54,
   "id": "f6406f8c",
   "metadata": {},
   "outputs": [],
   "source": [
    "from keras.layers import Dense,Dropout, LSTM\n",
    "from keras.models import Sequential"
   ]
  },
  {
   "cell_type": "code",
   "execution_count": 55,
   "id": "b6639a89",
   "metadata": {},
   "outputs": [],
   "source": [
    "model = Sequential()\n",
    "model.add(LSTM(units = 50,activation = 'relu',return_sequences = True,input_shape = (x_train.shape[1],1)))\n",
    "model.add(Dropout(0.2))\n",
    "\n",
    "model.add(LSTM(units = 60,activation = 'relu',return_sequences = True))\n",
    "model.add(Dropout(0.3))\n",
    "\n",
    "model.add(LSTM(units = 80,activation = 'relu',return_sequences = True))\n",
    "model.add(Dropout(0.4))\n",
    "\n",
    "model.add(LSTM(units = 120,activation = 'relu'))\n",
    "model.add(Dropout(0.5))\n",
    "\n",
    "model.add(Dense(units = 1))"
   ]
  },
  {
   "cell_type": "code",
   "execution_count": 56,
   "id": "f89c3954",
   "metadata": {},
   "outputs": [
    {
     "name": "stdout",
     "output_type": "stream",
     "text": [
      "Model: \"sequential\"\n",
      "_________________________________________________________________\n",
      " Layer (type)                Output Shape              Param #   \n",
      "=================================================================\n",
      " lstm (LSTM)                 (None, 100, 50)           10400     \n",
      "                                                                 \n",
      " dropout (Dropout)           (None, 100, 50)           0         \n",
      "                                                                 \n",
      " lstm_1 (LSTM)               (None, 100, 60)           26640     \n",
      "                                                                 \n",
      " dropout_1 (Dropout)         (None, 100, 60)           0         \n",
      "                                                                 \n",
      " lstm_2 (LSTM)               (None, 100, 80)           45120     \n",
      "                                                                 \n",
      " dropout_2 (Dropout)         (None, 100, 80)           0         \n",
      "                                                                 \n",
      " lstm_3 (LSTM)               (None, 120)               96480     \n",
      "                                                                 \n",
      " dropout_3 (Dropout)         (None, 120)               0         \n",
      "                                                                 \n",
      " dense (Dense)               (None, 1)                 121       \n",
      "                                                                 \n",
      "=================================================================\n",
      "Total params: 178,761\n",
      "Trainable params: 178,761\n",
      "Non-trainable params: 0\n",
      "_________________________________________________________________\n"
     ]
    }
   ],
   "source": [
    "model.summary()"
   ]
  },
  {
   "cell_type": "code",
   "execution_count": 57,
   "id": "eac6f4c0",
   "metadata": {},
   "outputs": [
    {
     "name": "stdout",
     "output_type": "stream",
     "text": [
      "Epoch 1/50\n",
      "118/118 [==============================] - 65s 431ms/step - loss: 0.0146\n",
      "Epoch 2/50\n",
      "118/118 [==============================] - 41s 350ms/step - loss: 0.0044\n",
      "Epoch 3/50\n",
      "118/118 [==============================] - 50s 427ms/step - loss: 0.0040\n",
      "Epoch 4/50\n",
      "118/118 [==============================] - 41s 344ms/step - loss: 0.0034\n",
      "Epoch 5/50\n",
      "118/118 [==============================] - 33s 279ms/step - loss: 0.0032\n",
      "Epoch 6/50\n",
      "118/118 [==============================] - 35s 298ms/step - loss: 0.0028\n",
      "Epoch 7/50\n",
      "118/118 [==============================] - 42s 356ms/step - loss: 0.0026\n",
      "Epoch 8/50\n",
      "118/118 [==============================] - 39s 324ms/step - loss: 0.0023\n",
      "Epoch 9/50\n",
      "118/118 [==============================] - 36s 304ms/step - loss: 0.0022\n",
      "Epoch 10/50\n",
      "118/118 [==============================] - 35s 298ms/step - loss: 0.0021\n",
      "Epoch 11/50\n",
      "118/118 [==============================] - 37s 313ms/step - loss: 0.0019\n",
      "Epoch 12/50\n",
      "118/118 [==============================] - 36s 308ms/step - loss: 0.0018\n",
      "Epoch 13/50\n",
      "118/118 [==============================] - 36s 302ms/step - loss: 0.0017\n",
      "Epoch 14/50\n",
      "118/118 [==============================] - 35s 299ms/step - loss: 0.0016\n",
      "Epoch 15/50\n",
      "118/118 [==============================] - 35s 297ms/step - loss: 0.0015\n",
      "Epoch 16/50\n",
      "118/118 [==============================] - 36s 304ms/step - loss: 0.0016\n",
      "Epoch 17/50\n",
      "118/118 [==============================] - 36s 303ms/step - loss: 0.0014\n",
      "Epoch 18/50\n",
      "118/118 [==============================] - 36s 307ms/step - loss: 0.0014\n",
      "Epoch 19/50\n",
      "118/118 [==============================] - 35s 296ms/step - loss: 0.0014\n",
      "Epoch 20/50\n",
      "118/118 [==============================] - 34s 291ms/step - loss: 0.0013\n",
      "Epoch 21/50\n",
      "118/118 [==============================] - 37s 312ms/step - loss: 0.0013\n",
      "Epoch 22/50\n",
      "118/118 [==============================] - 33s 281ms/step - loss: 0.0012\n",
      "Epoch 23/50\n",
      "118/118 [==============================] - 37s 317ms/step - loss: 0.0013\n",
      "Epoch 24/50\n",
      "118/118 [==============================] - 35s 296ms/step - loss: 0.0013\n",
      "Epoch 25/50\n",
      "118/118 [==============================] - 36s 305ms/step - loss: 0.0011\n",
      "Epoch 26/50\n",
      "118/118 [==============================] - 37s 313ms/step - loss: 0.0012\n",
      "Epoch 27/50\n",
      "118/118 [==============================] - 36s 301ms/step - loss: 0.0011\n",
      "Epoch 28/50\n",
      "118/118 [==============================] - 35s 296ms/step - loss: 0.0011\n",
      "Epoch 29/50\n",
      "118/118 [==============================] - 35s 295ms/step - loss: 0.0012\n",
      "Epoch 30/50\n",
      "118/118 [==============================] - 34s 289ms/step - loss: 0.0010\n",
      "Epoch 31/50\n",
      "118/118 [==============================] - 36s 305ms/step - loss: 0.0011\n",
      "Epoch 32/50\n",
      "118/118 [==============================] - 35s 300ms/step - loss: 0.0011\n",
      "Epoch 33/50\n",
      "118/118 [==============================] - 35s 298ms/step - loss: 0.0011\n",
      "Epoch 34/50\n",
      "118/118 [==============================] - 35s 293ms/step - loss: 0.0010\n",
      "Epoch 35/50\n",
      "118/118 [==============================] - 36s 301ms/step - loss: 0.0011\n",
      "Epoch 36/50\n",
      "118/118 [==============================] - 36s 303ms/step - loss: 0.0012\n",
      "Epoch 37/50\n",
      "118/118 [==============================] - 35s 300ms/step - loss: 0.0010\n",
      "Epoch 38/50\n",
      "118/118 [==============================] - 34s 284ms/step - loss: 0.0010\n",
      "Epoch 39/50\n",
      "118/118 [==============================] - 33s 279ms/step - loss: 0.0010\n",
      "Epoch 40/50\n",
      "118/118 [==============================] - 32s 270ms/step - loss: 0.0010\n",
      "Epoch 41/50\n",
      "118/118 [==============================] - 34s 292ms/step - loss: 0.0010\n",
      "Epoch 42/50\n",
      "118/118 [==============================] - 34s 291ms/step - loss: 9.7911e-04\n",
      "Epoch 43/50\n",
      "118/118 [==============================] - 35s 298ms/step - loss: 9.3715e-04\n",
      "Epoch 44/50\n",
      "118/118 [==============================] - 35s 295ms/step - loss: 9.3009e-04\n",
      "Epoch 45/50\n",
      "118/118 [==============================] - 33s 282ms/step - loss: 0.0010\n",
      "Epoch 46/50\n",
      "118/118 [==============================] - 35s 300ms/step - loss: 8.8503e-04\n",
      "Epoch 47/50\n",
      "118/118 [==============================] - 35s 295ms/step - loss: 9.1352e-04\n",
      "Epoch 48/50\n",
      "118/118 [==============================] - 33s 276ms/step - loss: 0.0010\n",
      "Epoch 49/50\n",
      "118/118 [==============================] - 29s 247ms/step - loss: 9.9741e-04\n",
      "Epoch 50/50\n",
      "118/118 [==============================] - 39s 328ms/step - loss: 9.2751e-04\n"
     ]
    },
    {
     "data": {
      "text/plain": [
       "<keras.callbacks.History at 0x17b2eccbf70>"
      ]
     },
     "execution_count": 57,
     "metadata": {},
     "output_type": "execute_result"
    }
   ],
   "source": [
    "model.compile(optimizer= 'adam',loss = 'mean_squared_error')\n",
    "model.fit(x_train,y_train,epochs = 50)"
   ]
  },
  {
   "cell_type": "code",
   "execution_count": 58,
   "id": "82bf13c9",
   "metadata": {},
   "outputs": [],
   "source": [
    "model.save('keras_model.h5')"
   ]
  },
  {
   "cell_type": "code",
   "execution_count": 60,
   "id": "4db52fd1",
   "metadata": {},
   "outputs": [
    {
     "data": {
      "text/html": [
       "<div>\n",
       "<style scoped>\n",
       "    .dataframe tbody tr th:only-of-type {\n",
       "        vertical-align: middle;\n",
       "    }\n",
       "\n",
       "    .dataframe tbody tr th {\n",
       "        vertical-align: top;\n",
       "    }\n",
       "\n",
       "    .dataframe thead th {\n",
       "        text-align: right;\n",
       "    }\n",
       "</style>\n",
       "<table border=\"1\" class=\"dataframe\">\n",
       "  <thead>\n",
       "    <tr style=\"text-align: right;\">\n",
       "      <th></th>\n",
       "      <th>Close</th>\n",
       "    </tr>\n",
       "  </thead>\n",
       "  <tbody>\n",
       "    <tr>\n",
       "      <th>3875</th>\n",
       "      <td>46.860001</td>\n",
       "    </tr>\n",
       "    <tr>\n",
       "      <th>3876</th>\n",
       "      <td>47.230000</td>\n",
       "    </tr>\n",
       "    <tr>\n",
       "      <th>3877</th>\n",
       "      <td>46.919998</td>\n",
       "    </tr>\n",
       "    <tr>\n",
       "      <th>3878</th>\n",
       "      <td>46.849998</td>\n",
       "    </tr>\n",
       "    <tr>\n",
       "      <th>3879</th>\n",
       "      <td>46.360001</td>\n",
       "    </tr>\n",
       "  </tbody>\n",
       "</table>\n",
       "</div>"
      ],
      "text/plain": [
       "          Close\n",
       "3875  46.860001\n",
       "3876  47.230000\n",
       "3877  46.919998\n",
       "3878  46.849998\n",
       "3879  46.360001"
      ]
     },
     "execution_count": 60,
     "metadata": {},
     "output_type": "execute_result"
    }
   ],
   "source": [
    "data_testing.head()"
   ]
  },
  {
   "cell_type": "code",
   "execution_count": 61,
   "id": "9c0512a8",
   "metadata": {},
   "outputs": [],
   "source": [
    "past_100days = data_training.tail(100)"
   ]
  },
  {
   "cell_type": "code",
   "execution_count": 64,
   "id": "6765e7b5",
   "metadata": {},
   "outputs": [
    {
     "name": "stderr",
     "output_type": "stream",
     "text": [
      "C:\\Users\\shyam suthar\\AppData\\Local\\Temp\\ipykernel_15184\\3923956722.py:1: FutureWarning: The frame.append method is deprecated and will be removed from pandas in a future version. Use pandas.concat instead.\n",
      "  final_df = past_100days.append(data_testing,ignore_index = True)\n"
     ]
    }
   ],
   "source": [
    "final_df = past_100days.append(data_testing,ignore_index = True)"
   ]
  },
  {
   "cell_type": "code",
   "execution_count": 65,
   "id": "f6d37cd8",
   "metadata": {},
   "outputs": [
    {
     "data": {
      "text/html": [
       "<div>\n",
       "<style scoped>\n",
       "    .dataframe tbody tr th:only-of-type {\n",
       "        vertical-align: middle;\n",
       "    }\n",
       "\n",
       "    .dataframe tbody tr th {\n",
       "        vertical-align: top;\n",
       "    }\n",
       "\n",
       "    .dataframe thead th {\n",
       "        text-align: right;\n",
       "    }\n",
       "</style>\n",
       "<table border=\"1\" class=\"dataframe\">\n",
       "  <thead>\n",
       "    <tr style=\"text-align: right;\">\n",
       "      <th></th>\n",
       "      <th>Close</th>\n",
       "    </tr>\n",
       "  </thead>\n",
       "  <tbody>\n",
       "    <tr>\n",
       "      <th>0</th>\n",
       "      <td>46.330002</td>\n",
       "    </tr>\n",
       "    <tr>\n",
       "      <th>1</th>\n",
       "      <td>45.650002</td>\n",
       "    </tr>\n",
       "    <tr>\n",
       "      <th>2</th>\n",
       "      <td>46.230000</td>\n",
       "    </tr>\n",
       "    <tr>\n",
       "      <th>3</th>\n",
       "      <td>47.590000</td>\n",
       "    </tr>\n",
       "    <tr>\n",
       "      <th>4</th>\n",
       "      <td>47.189999</td>\n",
       "    </tr>\n",
       "  </tbody>\n",
       "</table>\n",
       "</div>"
      ],
      "text/plain": [
       "       Close\n",
       "0  46.330002\n",
       "1  45.650002\n",
       "2  46.230000\n",
       "3  47.590000\n",
       "4  47.189999"
      ]
     },
     "execution_count": 65,
     "metadata": {},
     "output_type": "execute_result"
    }
   ],
   "source": [
    "final_df.head()"
   ]
  },
  {
   "cell_type": "code",
   "execution_count": 66,
   "id": "c4330e5d",
   "metadata": {},
   "outputs": [
    {
     "data": {
      "text/plain": [
       "array([[0.01994585],\n",
       "       [0.01770029],\n",
       "       [0.01961561],\n",
       "       ...,\n",
       "       [0.99616943],\n",
       "       [0.98748439],\n",
       "       [0.97757751]])"
      ]
     },
     "execution_count": 66,
     "metadata": {},
     "output_type": "execute_result"
    }
   ],
   "source": [
    "input_data = scaler.fit_transform(final_df)\n",
    "input_data"
   ]
  },
  {
   "cell_type": "code",
   "execution_count": 67,
   "id": "d2638ceb",
   "metadata": {},
   "outputs": [
    {
     "data": {
      "text/plain": [
       "(1762, 1)"
      ]
     },
     "execution_count": 67,
     "metadata": {},
     "output_type": "execute_result"
    }
   ],
   "source": [
    "input_data.shape"
   ]
  },
  {
   "cell_type": "code",
   "execution_count": 69,
   "id": "47d42493",
   "metadata": {},
   "outputs": [],
   "source": [
    "x_test = []\n",
    "y_test = []\n",
    "\n",
    "for i in range(100,input_data.shape[0]):\n",
    "    x_test.append(input_data[i-100:i])\n",
    "    y_test.append(input_data[i,0])"
   ]
  },
  {
   "cell_type": "code",
   "execution_count": 70,
   "id": "7e2038b1",
   "metadata": {},
   "outputs": [
    {
     "name": "stdout",
     "output_type": "stream",
     "text": [
      "(1662, 100, 1)\n",
      "(1662,)\n"
     ]
    }
   ],
   "source": [
    "x_test,y_test = np.array(x_test),np.array(y_test)\n",
    "print(x_test.shape)\n",
    "print(y_test.shape)"
   ]
  },
  {
   "cell_type": "code",
   "execution_count": 71,
   "id": "64446c1b",
   "metadata": {},
   "outputs": [],
   "source": [
    "y_predicted = model.predict(x_test)"
   ]
  },
  {
   "cell_type": "code",
   "execution_count": 72,
   "id": "f68d0396",
   "metadata": {},
   "outputs": [
    {
     "data": {
      "text/plain": [
       "(1662, 1)"
      ]
     },
     "execution_count": 72,
     "metadata": {},
     "output_type": "execute_result"
    }
   ],
   "source": [
    "y_predicted.shape"
   ]
  },
  {
   "cell_type": "code",
   "execution_count": 73,
   "id": "559d2021",
   "metadata": {},
   "outputs": [
    {
     "data": {
      "text/plain": [
       "array([0.02169606, 0.0229179 , 0.02189419, ..., 0.99616943, 0.98748439,\n",
       "       0.97757751])"
      ]
     },
     "execution_count": 73,
     "metadata": {},
     "output_type": "execute_result"
    }
   ],
   "source": [
    "y_test"
   ]
  },
  {
   "cell_type": "code",
   "execution_count": 74,
   "id": "f67f13a0",
   "metadata": {},
   "outputs": [
    {
     "data": {
      "text/plain": [
       "array([[0.08962707],\n",
       "       [0.08960679],\n",
       "       [0.08954842],\n",
       "       ...,\n",
       "       [0.86019504],\n",
       "       [0.8629633 ],\n",
       "       [0.863062  ]], dtype=float32)"
      ]
     },
     "execution_count": 74,
     "metadata": {},
     "output_type": "execute_result"
    }
   ],
   "source": [
    "y_predicted"
   ]
  },
  {
   "cell_type": "code",
   "execution_count": 75,
   "id": "be5ec9d7",
   "metadata": {},
   "outputs": [
    {
     "data": {
      "text/plain": [
       "array([0.00330229])"
      ]
     },
     "execution_count": 75,
     "metadata": {},
     "output_type": "execute_result"
    }
   ],
   "source": [
    "scaler.scale_"
   ]
  },
  {
   "cell_type": "code",
   "execution_count": 76,
   "id": "58823c6c",
   "metadata": {},
   "outputs": [],
   "source": [
    "scaler_factor = 1/0.00330229\n",
    "y_predicted = y_predicted * scaler_factor\n",
    "y_test = y_test * scaler_factor"
   ]
  },
  {
   "cell_type": "code",
   "execution_count": 77,
   "id": "8850d312",
   "metadata": {},
   "outputs": [
    {
     "data": {
      "image/png": "[encoded data removed]",
      "text/plain": [
       "<Figure size 864x432 with 1 Axes>"
      ]
     },
     "metadata": {
      "needs_background": "light"
     },
     "output_type": "display_data"
    }
   ],
   "source": [
    "plt.figure(figsize = (12,6))\n",
    "plt.plot(y_test,'b',label = 'Original price')\n",
    "plt.plot(y_predicted, 'r', label = 'predicted price')\n",
    "plt.xlabel('time')\n",
    "plt.ylabel('price')\n",
    "plt.legend()\n",
    "plt.show()"
   ]
  },
  {
   "cell_type": "code",
   "execution_count": null,
   "id": "167cc4b9",
   "metadata": {},
   "outputs": [],
   "source": []
  }
 ],
 "metadata": {
  "kernelspec": {
   "display_name": "Python 3 (ipykernel)",
   "language": "python",
   "name": "python3"
  },
  "language_info": {
   "codemirror_mode": {
    "name": "ipython",
    "version": 3
   },
   "file_extension": ".py",
   "mimetype": "text/x-python",
   "name": "python",
   "nbconvert_exporter": "python",
   "pygments_lexer": "ipython3",
   "version": "3.9.7"
  }
 },
 "nbformat": 4,
 "nbformat_minor": 5
}
